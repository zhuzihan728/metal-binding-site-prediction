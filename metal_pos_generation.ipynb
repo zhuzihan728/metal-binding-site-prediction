{
  "nbformat": 4,
  "nbformat_minor": 0,
  "metadata": {
    "colab": {
      "provenance": [],
      "collapsed_sections": [],
      "include_colab_link": true
    },
    "kernelspec": {
      "name": "python3",
      "display_name": "Python 3"
    },
    "language_info": {
      "name": "python"
    }
  },
  "cells": [
    {
      "cell_type": "markdown",
      "metadata": {
        "id": "view-in-github",
        "colab_type": "text"
      },
      "source": [
        "<a href=\"https://colab.research.google.com/github/zhuzihan728/metal-binding-site-prediction/blob/main/metal_pos_generation.ipynb\" target=\"_parent\"><img src=\"https://colab.research.google.com/assets/colab-badge.svg\" alt=\"Open In Colab\"/></a>"
      ]
    },
    {
      "cell_type": "code",
      "execution_count": 227,
      "metadata": {
        "id": "EovgPyMiF7sH",
        "colab": {
          "base_uri": "https://localhost:8080/"
        },
        "outputId": "35ddb20d-2ada-4a33-8067-217f437b3e4e"
      },
      "outputs": [
        {
          "output_type": "stream",
          "name": "stdout",
          "text": [
            "Looking in indexes: https://pypi.org/simple, https://us-python.pkg.dev/colab-wheels/public/simple/\n",
            "Requirement already satisfied: biopython in /usr/local/lib/python3.7/dist-packages (1.79)\n",
            "Requirement already satisfied: numpy in /usr/local/lib/python3.7/dist-packages (from biopython) (1.21.6)\n"
          ]
        }
      ],
      "source": [
        "pip install biopython"
      ]
    },
    {
      "cell_type": "code",
      "source": [
        "from google.colab import drive\n",
        "drive.mount('/content/drive')"
      ],
      "metadata": {
        "id": "yHrInxHufmXE",
        "outputId": "4c8fc877-e9e1-4bcb-d3df-e8512b2d9ddb",
        "colab": {
          "base_uri": "https://localhost:8080/"
        }
      },
      "execution_count": 228,
      "outputs": [
        {
          "output_type": "stream",
          "name": "stdout",
          "text": [
            "Drive already mounted at /content/drive; to attempt to forcibly remount, call drive.mount(\"/content/drive\", force_remount=True).\n"
          ]
        }
      ]
    },
    {
      "cell_type": "code",
      "source": [
        "!tar -xvf /content/drive/MyDrive/uniprot_dataset.tar -C /content"
      ],
      "metadata": {
        "id": "cRcm5GNlf3eN",
        "outputId": "17f9a0e8-2a07-4460-d4a2-50784eae7b6d",
        "colab": {
          "base_uri": "https://localhost:8080/"
        }
      },
      "execution_count": 229,
      "outputs": [
        {
          "output_type": "stream",
          "name": "stdout",
          "text": [
            "ChEBI-IDs_for_metal_binding.tsv\n",
            "POS_TRAIN_FULL.tsv\n",
            "POS_TRAIN.tsv\n",
            "NEG_TRAIN.fasta\n",
            "POS_TRAIN.fasta\n",
            "POS_TRAIN_FULL.fasta\n"
          ]
        }
      ]
    },
    {
      "cell_type": "code",
      "source": [
        "from Bio import SeqIO\n",
        "import pandas as pd\n",
        "from sklearn.metrics import f1_score, recall_score, precision_score, precision_recall_fscore_support\n",
        "import numpy as np"
      ],
      "metadata": {
        "id": "HaJ-O6BWHULe"
      },
      "execution_count": 230,
      "outputs": []
    },
    {
      "cell_type": "code",
      "source": [
        "# for seq_record in SeqIO.parse(\"POS_TRAIN.fasta\", \"fasta\"):\n",
        "#   print(f\"ID: {seq_record.id}\")\n",
        "#   print(f\"SEQ: {repr(seq_record.seq)}\")\n",
        "#   print(f\"Length: {len(seq_record)}\")\n",
        "\n",
        "#record_dict = SeqIO.to_dict(SeqIO.parse(\"test-dataset.fasta\", \"fasta\"))\n",
        "#record_dict"
      ],
      "metadata": {
        "id": "NCySTQbrHW1O"
      },
      "execution_count": 231,
      "outputs": []
    },
    {
      "cell_type": "markdown",
      "source": [
        "Generate fake predictions"
      ],
      "metadata": {
        "id": "YanPXQl56brS"
      }
    },
    {
      "cell_type": "code",
      "source": [
        "# generates random predictions for protein sequences, format: (prot_accession, metal_id, pos)\n",
        "\n",
        "def generate_one_predict(protein, metals):\n",
        "  acc, seq = protein\n",
        "  n = np.random.randint(10)\n",
        "  pred = []\n",
        "\n",
        "  metal = np.random.choice(metals, n, replace=False)\n",
        "  rng = np.random.default_rng()\n",
        "  pos = rng.choice(len(seq), n, replace=False)\n",
        "  for x, y in zip(metal, pos):\n",
        "    pred.append((acc, x, y))\n",
        "  return pred\n",
        "\n",
        "\n",
        "\n",
        "def generate_predictions(number): # number: number of prot_seqs to predict\n",
        "  chebi_map = pd.read_csv('ChEBI-IDs_for_metal_binding.tsv', sep='\\t')\n",
        "  chebi_ids = chebi_map[\"ChEBI-ID\"].unique()\n",
        "  output = [] # list of dicts {\"protein\":, \"chebi-id\", \"position\", \"score\"}\n",
        "  cnt = 0\n",
        "  for seq_record in SeqIO.parse(\"POS_TRAIN.fasta\", \"fasta\"):\n",
        "    if cnt == number:\n",
        "      break\n",
        "    # print(f\"ID: {seq_record.id}\")\n",
        "    # print(f\"SEQ: {repr(seq_record.seq)}\")\n",
        "    # print(f\"Length: {len(seq_record)}\")\n",
        "    protein = seq_record.id.split('|')[1], seq_record.seq\n",
        "    output += generate_one_predict(protein, chebi_ids)\n",
        "    cnt += 1\n",
        "  return output\n",
        "    \n",
        "\n"
      ],
      "metadata": {
        "id": "oJ7wFIAuo9LZ"
      },
      "execution_count": 232,
      "outputs": []
    },
    {
      "cell_type": "code",
      "source": [
        "output = generate_predictions(10)\n",
        "output"
      ],
      "metadata": {
        "colab": {
          "base_uri": "https://localhost:8080/"
        },
        "id": "yrmAnw_3Cb05",
        "outputId": "0302acea-c9fb-49fa-8e3b-9d9f8b2e76a6"
      },
      "execution_count": 233,
      "outputs": [
        {
          "output_type": "execute_result",
          "data": {
            "text/plain": [
              "[('A0A023GPI8', 'CHEBI:24875', 55),\n",
              " ('A0A023GPI8', 'CHEBI:23378', 117),\n",
              " ('A0A023GPI8', 'CHEBI:49552', 122),\n",
              " ('A0A023GPI8', 'CHEBI:30408', 151),\n",
              " ('A0A023GPI8', 'CHEBI:29105', 174),\n",
              " ('A0A067XG71', 'CHEBI:24875', 24),\n",
              " ('A0A067XG71', 'CHEBI:60504', 70),\n",
              " ('A0A067XG71', 'CHEBI:21143', 31),\n",
              " ('A0A067XG71', 'CHEBI:190135', 4),\n",
              " ('A0A067XG71', 'CHEBI:25213', 144),\n",
              " ('A0A084JZF2', 'CHEBI:29035', 162),\n",
              " ('A0A084JZF2', 'CHEBI:60400', 0),\n",
              " ('A0A084JZF2', 'CHEBI:29103', 12),\n",
              " ('A0A084JZF2', 'CHEBI:16793', 239),\n",
              " ('A0A084JZF2', 'CHEBI:21137', 279),\n",
              " ('A0A096P8D3', 'CHEBI:18420', 104),\n",
              " ('A0A096P8D3', 'CHEBI:25213', 299),\n",
              " ('A0A096P8D3', 'CHEBI:49786', 45),\n",
              " ('A0A096P8D3', 'CHEBI:29105', 139),\n",
              " ('A0A096P8D3', 'CHEBI:29101', 358),\n",
              " ('A0A0D4WV12', 'CHEBI:29103', 3),\n",
              " ('A0A0D4WV12', 'CHEBI:29036', 217),\n",
              " ('A0A0D4WV12', 'CHEBI:29105', 221),\n",
              " ('A0A0D4WV12', 'CHEBI:49713', 67),\n",
              " ('A0A0D4WV12', 'CHEBI:60504', 30),\n",
              " ('A0A0D4WV12', 'CHEBI:29101', 122),\n",
              " ('A0A0F5HNH9', 'CHEBI:29103', 47),\n",
              " ('A0A0H2UMY0', 'CHEBI:49883', 178),\n",
              " ('A0A0H2UMY0', 'CHEBI:60240', 483),\n",
              " ('A0A0H2UMY0', 'CHEBI:21137', 455),\n",
              " ('A0A0H2UMY0', 'CHEBI:49713', 207),\n",
              " ('A0A0H2UMY0', 'CHEBI:47739', 395),\n",
              " ('A0A0H2UMY0', 'CHEBI:60400', 107),\n",
              " ('A0A0H2UMY0', 'CHEBI:60504', 176),\n",
              " ('A0A0H2UMY0', 'CHEBI:29035', 194),\n",
              " ('A0A0H2UNG0', 'CHEBI:29035', 1000),\n",
              " ('A0A0H2UNG0', 'CHEBI:21137', 1182),\n",
              " ('A0A0H2UNG0', 'CHEBI:49713', 965),\n",
              " ('A0A0H2UNG0', 'CHEBI:29036', 316),\n",
              " ('A0A0H2UNG0', 'CHEBI:21143', 645),\n",
              " ('A0A0H2URD6', 'CHEBI:23378', 476),\n",
              " ('A0A0H2URD6', 'CHEBI:48775', 7),\n",
              " ('A0A0H2URJ6', 'CHEBI:24875', 48),\n",
              " ('A0A0H2URJ6', 'CHEBI:29101', 268)]"
            ]
          },
          "metadata": {},
          "execution_count": 233
        }
      ]
    },
    {
      "cell_type": "markdown",
      "source": [
        "Encode metals to integers, 0 for non-binding amino acid"
      ],
      "metadata": {
        "id": "iCjmzBhg8Dp3"
      }
    },
    {
      "cell_type": "code",
      "source": [
        "from sklearn import preprocessing\n",
        "chebi_map = pd.read_csv('ChEBI-IDs_for_metal_binding.tsv', sep='\\t')\n",
        "labels = chebi_map[\"ChEBI-ID\"].unique()\n",
        "le = preprocessing.LabelEncoder()\n",
        "encoded = le.fit_transform(labels) + 1\n",
        "\n",
        "pd.DataFrame({'metal': labels, 'encoded': encoded})\n"
      ],
      "metadata": {
        "colab": {
          "base_uri": "https://localhost:8080/",
          "height": 959
        },
        "id": "fk_56GKbIcRK",
        "outputId": "ea4be62e-3f37-46e1-e11f-795e9e8c4afd"
      },
      "execution_count": 234,
      "outputs": [
        {
          "output_type": "execute_result",
          "data": {
            "text/plain": [
              "           metal  encoded\n",
              "0    CHEBI:48775       20\n",
              "1    CHEBI:29108       17\n",
              "2    CHEBI:48828       21\n",
              "3    CHEBI:49415       22\n",
              "4    CHEBI:23378        7\n",
              "5    CHEBI:49552       23\n",
              "6    CHEBI:29036       13\n",
              "7    CHEBI:60240       27\n",
              "8   CHEBI:190135        4\n",
              "9    CHEBI:24875        8\n",
              "10   CHEBI:29033       10\n",
              "11   CHEBI:29034       11\n",
              "12   CHEBI:30408       18\n",
              "13   CHEBI:49713       24\n",
              "14   CHEBI:18420        3\n",
              "15   CHEBI:29035       12\n",
              "16   CHEBI:16793        1\n",
              "17   CHEBI:49786       25\n",
              "18   CHEBI:60400       28\n",
              "19   CHEBI:47739       19\n",
              "20   CHEBI:29103       15\n",
              "21   CHEBI:29101       14\n",
              "22   CHEBI:49883       26\n",
              "23   CHEBI:21137        5\n",
              "24   CHEBI:29105       16\n",
              "25  CHEBI:177874        2\n",
              "26   CHEBI:21143        6\n",
              "27   CHEBI:60504       29\n",
              "28   CHEBI:25213        9"
            ],
            "text/html": [
              "\n",
              "  <div id=\"df-5f952274-23fc-4bd1-bfbb-7d95c080b89a\">\n",
              "    <div class=\"colab-df-container\">\n",
              "      <div>\n",
              "<style scoped>\n",
              "    .dataframe tbody tr th:only-of-type {\n",
              "        vertical-align: middle;\n",
              "    }\n",
              "\n",
              "    .dataframe tbody tr th {\n",
              "        vertical-align: top;\n",
              "    }\n",
              "\n",
              "    .dataframe thead th {\n",
              "        text-align: right;\n",
              "    }\n",
              "</style>\n",
              "<table border=\"1\" class=\"dataframe\">\n",
              "  <thead>\n",
              "    <tr style=\"text-align: right;\">\n",
              "      <th></th>\n",
              "      <th>metal</th>\n",
              "      <th>encoded</th>\n",
              "    </tr>\n",
              "  </thead>\n",
              "  <tbody>\n",
              "    <tr>\n",
              "      <th>0</th>\n",
              "      <td>CHEBI:48775</td>\n",
              "      <td>20</td>\n",
              "    </tr>\n",
              "    <tr>\n",
              "      <th>1</th>\n",
              "      <td>CHEBI:29108</td>\n",
              "      <td>17</td>\n",
              "    </tr>\n",
              "    <tr>\n",
              "      <th>2</th>\n",
              "      <td>CHEBI:48828</td>\n",
              "      <td>21</td>\n",
              "    </tr>\n",
              "    <tr>\n",
              "      <th>3</th>\n",
              "      <td>CHEBI:49415</td>\n",
              "      <td>22</td>\n",
              "    </tr>\n",
              "    <tr>\n",
              "      <th>4</th>\n",
              "      <td>CHEBI:23378</td>\n",
              "      <td>7</td>\n",
              "    </tr>\n",
              "    <tr>\n",
              "      <th>5</th>\n",
              "      <td>CHEBI:49552</td>\n",
              "      <td>23</td>\n",
              "    </tr>\n",
              "    <tr>\n",
              "      <th>6</th>\n",
              "      <td>CHEBI:29036</td>\n",
              "      <td>13</td>\n",
              "    </tr>\n",
              "    <tr>\n",
              "      <th>7</th>\n",
              "      <td>CHEBI:60240</td>\n",
              "      <td>27</td>\n",
              "    </tr>\n",
              "    <tr>\n",
              "      <th>8</th>\n",
              "      <td>CHEBI:190135</td>\n",
              "      <td>4</td>\n",
              "    </tr>\n",
              "    <tr>\n",
              "      <th>9</th>\n",
              "      <td>CHEBI:24875</td>\n",
              "      <td>8</td>\n",
              "    </tr>\n",
              "    <tr>\n",
              "      <th>10</th>\n",
              "      <td>CHEBI:29033</td>\n",
              "      <td>10</td>\n",
              "    </tr>\n",
              "    <tr>\n",
              "      <th>11</th>\n",
              "      <td>CHEBI:29034</td>\n",
              "      <td>11</td>\n",
              "    </tr>\n",
              "    <tr>\n",
              "      <th>12</th>\n",
              "      <td>CHEBI:30408</td>\n",
              "      <td>18</td>\n",
              "    </tr>\n",
              "    <tr>\n",
              "      <th>13</th>\n",
              "      <td>CHEBI:49713</td>\n",
              "      <td>24</td>\n",
              "    </tr>\n",
              "    <tr>\n",
              "      <th>14</th>\n",
              "      <td>CHEBI:18420</td>\n",
              "      <td>3</td>\n",
              "    </tr>\n",
              "    <tr>\n",
              "      <th>15</th>\n",
              "      <td>CHEBI:29035</td>\n",
              "      <td>12</td>\n",
              "    </tr>\n",
              "    <tr>\n",
              "      <th>16</th>\n",
              "      <td>CHEBI:16793</td>\n",
              "      <td>1</td>\n",
              "    </tr>\n",
              "    <tr>\n",
              "      <th>17</th>\n",
              "      <td>CHEBI:49786</td>\n",
              "      <td>25</td>\n",
              "    </tr>\n",
              "    <tr>\n",
              "      <th>18</th>\n",
              "      <td>CHEBI:60400</td>\n",
              "      <td>28</td>\n",
              "    </tr>\n",
              "    <tr>\n",
              "      <th>19</th>\n",
              "      <td>CHEBI:47739</td>\n",
              "      <td>19</td>\n",
              "    </tr>\n",
              "    <tr>\n",
              "      <th>20</th>\n",
              "      <td>CHEBI:29103</td>\n",
              "      <td>15</td>\n",
              "    </tr>\n",
              "    <tr>\n",
              "      <th>21</th>\n",
              "      <td>CHEBI:29101</td>\n",
              "      <td>14</td>\n",
              "    </tr>\n",
              "    <tr>\n",
              "      <th>22</th>\n",
              "      <td>CHEBI:49883</td>\n",
              "      <td>26</td>\n",
              "    </tr>\n",
              "    <tr>\n",
              "      <th>23</th>\n",
              "      <td>CHEBI:21137</td>\n",
              "      <td>5</td>\n",
              "    </tr>\n",
              "    <tr>\n",
              "      <th>24</th>\n",
              "      <td>CHEBI:29105</td>\n",
              "      <td>16</td>\n",
              "    </tr>\n",
              "    <tr>\n",
              "      <th>25</th>\n",
              "      <td>CHEBI:177874</td>\n",
              "      <td>2</td>\n",
              "    </tr>\n",
              "    <tr>\n",
              "      <th>26</th>\n",
              "      <td>CHEBI:21143</td>\n",
              "      <td>6</td>\n",
              "    </tr>\n",
              "    <tr>\n",
              "      <th>27</th>\n",
              "      <td>CHEBI:60504</td>\n",
              "      <td>29</td>\n",
              "    </tr>\n",
              "    <tr>\n",
              "      <th>28</th>\n",
              "      <td>CHEBI:25213</td>\n",
              "      <td>9</td>\n",
              "    </tr>\n",
              "  </tbody>\n",
              "</table>\n",
              "</div>\n",
              "      <button class=\"colab-df-convert\" onclick=\"convertToInteractive('df-5f952274-23fc-4bd1-bfbb-7d95c080b89a')\"\n",
              "              title=\"Convert this dataframe to an interactive table.\"\n",
              "              style=\"display:none;\">\n",
              "        \n",
              "  <svg xmlns=\"http://www.w3.org/2000/svg\" height=\"24px\"viewBox=\"0 0 24 24\"\n",
              "       width=\"24px\">\n",
              "    <path d=\"M0 0h24v24H0V0z\" fill=\"none\"/>\n",
              "    <path d=\"M18.56 5.44l.94 2.06.94-2.06 2.06-.94-2.06-.94-.94-2.06-.94 2.06-2.06.94zm-11 1L8.5 8.5l.94-2.06 2.06-.94-2.06-.94L8.5 2.5l-.94 2.06-2.06.94zm10 10l.94 2.06.94-2.06 2.06-.94-2.06-.94-.94-2.06-.94 2.06-2.06.94z\"/><path d=\"M17.41 7.96l-1.37-1.37c-.4-.4-.92-.59-1.43-.59-.52 0-1.04.2-1.43.59L10.3 9.45l-7.72 7.72c-.78.78-.78 2.05 0 2.83L4 21.41c.39.39.9.59 1.41.59.51 0 1.02-.2 1.41-.59l7.78-7.78 2.81-2.81c.8-.78.8-2.07 0-2.86zM5.41 20L4 18.59l7.72-7.72 1.47 1.35L5.41 20z\"/>\n",
              "  </svg>\n",
              "      </button>\n",
              "      \n",
              "  <style>\n",
              "    .colab-df-container {\n",
              "      display:flex;\n",
              "      flex-wrap:wrap;\n",
              "      gap: 12px;\n",
              "    }\n",
              "\n",
              "    .colab-df-convert {\n",
              "      background-color: #E8F0FE;\n",
              "      border: none;\n",
              "      border-radius: 50%;\n",
              "      cursor: pointer;\n",
              "      display: none;\n",
              "      fill: #1967D2;\n",
              "      height: 32px;\n",
              "      padding: 0 0 0 0;\n",
              "      width: 32px;\n",
              "    }\n",
              "\n",
              "    .colab-df-convert:hover {\n",
              "      background-color: #E2EBFA;\n",
              "      box-shadow: 0px 1px 2px rgba(60, 64, 67, 0.3), 0px 1px 3px 1px rgba(60, 64, 67, 0.15);\n",
              "      fill: #174EA6;\n",
              "    }\n",
              "\n",
              "    [theme=dark] .colab-df-convert {\n",
              "      background-color: #3B4455;\n",
              "      fill: #D2E3FC;\n",
              "    }\n",
              "\n",
              "    [theme=dark] .colab-df-convert:hover {\n",
              "      background-color: #434B5C;\n",
              "      box-shadow: 0px 1px 3px 1px rgba(0, 0, 0, 0.15);\n",
              "      filter: drop-shadow(0px 1px 2px rgba(0, 0, 0, 0.3));\n",
              "      fill: #FFFFFF;\n",
              "    }\n",
              "  </style>\n",
              "\n",
              "      <script>\n",
              "        const buttonEl =\n",
              "          document.querySelector('#df-5f952274-23fc-4bd1-bfbb-7d95c080b89a button.colab-df-convert');\n",
              "        buttonEl.style.display =\n",
              "          google.colab.kernel.accessAllowed ? 'block' : 'none';\n",
              "\n",
              "        async function convertToInteractive(key) {\n",
              "          const element = document.querySelector('#df-5f952274-23fc-4bd1-bfbb-7d95c080b89a');\n",
              "          const dataTable =\n",
              "            await google.colab.kernel.invokeFunction('convertToInteractive',\n",
              "                                                     [key], {});\n",
              "          if (!dataTable) return;\n",
              "\n",
              "          const docLinkHtml = 'Like what you see? Visit the ' +\n",
              "            '<a target=\"_blank\" href=https://colab.research.google.com/notebooks/data_table.ipynb>data table notebook</a>'\n",
              "            + ' to learn more about interactive tables.';\n",
              "          element.innerHTML = '';\n",
              "          dataTable['output_type'] = 'display_data';\n",
              "          await google.colab.output.renderOutput(dataTable, element);\n",
              "          const docLink = document.createElement('div');\n",
              "          docLink.innerHTML = docLinkHtml;\n",
              "          element.appendChild(docLink);\n",
              "        }\n",
              "      </script>\n",
              "    </div>\n",
              "  </div>\n",
              "  "
            ]
          },
          "metadata": {},
          "execution_count": 234
        }
      ]
    },
    {
      "cell_type": "code",
      "source": [
        "# query to encoder the metal encodings\n",
        "\n",
        "def encode_metal(metal, le):\n",
        "  return le.transform([metal])[0] + 1\n",
        "\n",
        "def encode_metal_list(metals, le):\n",
        "  return le.transform(metals) + 1\n",
        "\n",
        "print(encode_metal('CHEBI:177874', le))\n",
        "print(encode_metal_list(['CHEBI:16793', 'CHEBI:177874'], le))\n"
      ],
      "metadata": {
        "colab": {
          "base_uri": "https://localhost:8080/"
        },
        "id": "XiuwlwnQLoFQ",
        "outputId": "d4b3070d-244f-4c42-d3d6-d6ac20483ddf"
      },
      "execution_count": 235,
      "outputs": [
        {
          "output_type": "stream",
          "name": "stdout",
          "text": [
            "2\n",
            "[1 2]\n"
          ]
        }
      ]
    },
    {
      "cell_type": "code",
      "source": [
        "n = 10 # number of prot seqs"
      ],
      "metadata": {
        "id": "2pxR5NpBRRUn"
      },
      "execution_count": 236,
      "outputs": []
    },
    {
      "cell_type": "code",
      "source": [
        "def retrive_one_label(acc, data, le):\n",
        "  labels = data[data['Accession'] == acc]\n",
        "  #print(labels)\n",
        "  metals = encode_metal_list(list(labels['ChEBI-ID']), le)\n",
        "  pos = list(labels['Position'])\n",
        "  return metals, pos\n",
        "\n",
        "\n",
        "\n",
        "gt_data = pd.read_csv('POS_TRAIN.tsv',sep='\\t')\n",
        "preds = pd.DataFrame(output,columns=['Accession', 'ChEBI-ID', 'Position'])"
      ],
      "metadata": {
        "id": "kdddWBCNuCGa"
      },
      "execution_count": 237,
      "outputs": []
    },
    {
      "cell_type": "code",
      "source": [
        "# import tracemalloc\n",
        "# tracemalloc.start()\n",
        "\n",
        "# snap1 = tracemalloc.take_snapshot()\n",
        "\n",
        "def create_encoded_mask(gt_data, preds):\n",
        "\n",
        "  y_true = np.array([], dtype = np.int8)\n",
        "  y_pred = np.array([], dtype = np.int8)\n",
        "\n",
        "  cnt = 0\n",
        "  for seq_record in SeqIO.parse(\"POS_TRAIN.fasta\", \"fasta\"):\n",
        "    if cnt == n:\n",
        "      break\n",
        "    # print(f\"ID: {seq_record.id}\")\n",
        "    # print(f\"SEQ: {repr(seq_record.seq)}\")\n",
        "    # print(f\"Length: {len(seq_record)}\")\n",
        "    acc = seq_record.id.split('|')[1]\n",
        "\n",
        "    temp = np.zeros(len(seq_record), dtype = np.int8)\n",
        "    metals, pos = retrive_one_label(acc, gt_data, le)\n",
        "    temp[pos] = metals\n",
        "    y_true = np.concatenate((y_true, temp),axis=None)\n",
        "    \n",
        "    temp = np.zeros(len(seq_record), dtype = np.int8)\n",
        "    metals, pos = retrive_one_label(acc, preds, le)\n",
        "    temp[pos] = metals\n",
        "    y_pred = np.concatenate((y_pred, temp),axis=None)\n",
        "\n",
        "    cnt += 1\n",
        "  return y_true, y_pred\n",
        "\n",
        "# snap2 = tracemalloc.take_snapshot()\n",
        "\n",
        "# top_stats = snap2.compare_to(snap1, \"lineno\")\n",
        "\n",
        "# for stat in top_stats:\n",
        "#     print(stat)\n",
        "y_true, y_pred = create_encoded_mask(gt_data, preds)\n",
        "y_pred[8] = 12\n",
        "print(y_true[:10])\n",
        "print(y_pred[:10])"
      ],
      "metadata": {
        "colab": {
          "base_uri": "https://localhost:8080/"
        },
        "id": "syS7njVzFuZ7",
        "outputId": "e7ebae95-3e97-4e09-a01c-ea8f250aec66"
      },
      "execution_count": 238,
      "outputs": [
        {
          "output_type": "stream",
          "name": "stdout",
          "text": [
            "[ 0  0  0  0  0  0  0  0 12  0]\n",
            "[ 0  0  0  0  0  0  0  0 12  0]\n"
          ]
        }
      ]
    },
    {
      "cell_type": "markdown",
      "source": [
        "Calculate metrics"
      ],
      "metadata": {
        "id": "jI8nN58ge8pQ"
      }
    },
    {
      "cell_type": "code",
      "source": [
        "\n",
        "precision, recall, fbeta_score, support = precision_recall_fscore_support(y_true, y_pred, average=None, labels = [i for i in range(1, 30)])\n",
        "print(f'precision: {precision}\\n recall: {recall}\\n fbeta_score: {fbeta_score}')\n"
      ],
      "metadata": {
        "colab": {
          "base_uri": "https://localhost:8080/"
        },
        "id": "cqH_P7KnH8bq",
        "outputId": "e35a7e61-9e84-419b-87e0-4ec4200e7b96"
      },
      "execution_count": 239,
      "outputs": [
        {
          "output_type": "stream",
          "name": "stdout",
          "text": [
            "precision: [0.   0.   0.   0.   0.   0.   0.   0.   0.   0.   0.   0.25 0.   0.\n",
            " 0.   0.   0.   0.   0.   0.   0.   0.   0.   0.   0.   0.   0.   0.\n",
            " 0.  ]\n",
            " recall: [0.         0.         0.         0.         0.         0.\n",
            " 0.         0.         0.         0.         0.         0.09090909\n",
            " 0.         0.         0.         0.         0.         0.\n",
            " 0.         0.         0.         0.         0.         0.\n",
            " 0.         0.         0.         0.         0.        ]\n",
            " fbeta_score: [0.         0.         0.         0.         0.         0.\n",
            " 0.         0.         0.         0.         0.         0.13333333\n",
            " 0.         0.         0.         0.         0.         0.\n",
            " 0.         0.         0.         0.         0.         0.\n",
            " 0.         0.         0.         0.         0.        ]\n"
          ]
        },
        {
          "output_type": "stream",
          "name": "stderr",
          "text": [
            "/usr/local/lib/python3.7/dist-packages/sklearn/metrics/_classification.py:1318: UndefinedMetricWarning: Precision and F-score are ill-defined and being set to 0.0 in labels with no predicted samples. Use `zero_division` parameter to control this behavior.\n",
            "  _warn_prf(average, modifier, msg_start, len(result))\n",
            "/usr/local/lib/python3.7/dist-packages/sklearn/metrics/_classification.py:1318: UndefinedMetricWarning: Recall and F-score are ill-defined and being set to 0.0 in labels with no true samples. Use `zero_division` parameter to control this behavior.\n",
            "  _warn_prf(average, modifier, msg_start, len(result))\n"
          ]
        }
      ]
    }
  ]
}
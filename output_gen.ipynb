{
  "nbformat": 4,
  "nbformat_minor": 0,
  "metadata": {
    "colab": {
      "provenance": [],
      "mount_file_id": "1QsXbq8_JVX4UivFQGgiNRRmOGcWAwZr7",
      "authorship_tag": "ABX9TyMl8Xts61AXqBfB8qU3aPV0",
      "include_colab_link": true
    },
    "kernelspec": {
      "name": "python3",
      "display_name": "Python 3"
    },
    "language_info": {
      "name": "python"
    }
  },
  "cells": [
    {
      "cell_type": "markdown",
      "metadata": {
        "id": "view-in-github",
        "colab_type": "text"
      },
      "source": [
        "<a href=\"https://colab.research.google.com/github/zhuzihan728/metal-binding-site-prediction/blob/main/output_gen.ipynb\" target=\"_parent\"><img src=\"https://colab.research.google.com/assets/colab-badge.svg\" alt=\"Open In Colab\"/></a>"
      ]
    },
    {
      "cell_type": "code",
      "execution_count": 1,
      "metadata": {
        "id": "EovgPyMiF7sH",
        "colab": {
          "base_uri": "https://localhost:8080/"
        },
        "outputId": "09263582-74c0-42ae-f635-829d2ec90676"
      },
      "outputs": [
        {
          "output_type": "stream",
          "name": "stdout",
          "text": [
            "Looking in indexes: https://pypi.org/simple, https://us-python.pkg.dev/colab-wheels/public/simple/\n",
            "Collecting biopython\n",
            "  Downloading biopython-1.79-cp37-cp37m-manylinux_2_17_x86_64.manylinux2014_x86_64.whl (2.6 MB)\n",
            "\u001b[K     |████████████████████████████████| 2.6 MB 5.2 MB/s \n",
            "\u001b[?25hRequirement already satisfied: numpy in /usr/local/lib/python3.7/dist-packages (from biopython) (1.21.6)\n",
            "Installing collected packages: biopython\n",
            "Successfully installed biopython-1.79\n"
          ]
        }
      ],
      "source": [
        "pip install biopython"
      ]
    },
    {
      "cell_type": "code",
      "source": [
        "from google.colab import drive\n",
        "drive.mount('/content/drive')\n",
        "%cd drive/MyDrive\n",
        "%cd 'Colab Notebooks'\n",
        "%cd project\n",
        "%cd train-test"
      ],
      "metadata": {
        "colab": {
          "base_uri": "https://localhost:8080/"
        },
        "id": "4XlnQ0K-IWia",
        "outputId": "ab20ba8c-353a-4a4f-94ba-12d2ff99e72b"
      },
      "execution_count": 3,
      "outputs": [
        {
          "output_type": "stream",
          "name": "stdout",
          "text": [
            "Drive already mounted at /content/drive; to attempt to forcibly remount, call drive.mount(\"/content/drive\", force_remount=True).\n",
            "[Errno 2] No such file or directory: 'drive/MyDrive'\n",
            "/content/drive/MyDrive/Colab Notebooks/project\n",
            "[Errno 2] No such file or directory: 'Colab Notebooks'\n",
            "/content/drive/MyDrive/Colab Notebooks/project\n",
            "[Errno 2] No such file or directory: 'project'\n",
            "/content/drive/MyDrive/Colab Notebooks/project\n",
            "/content/drive/My Drive/Colab Notebooks/project/train-test\n"
          ]
        }
      ]
    },
    {
      "cell_type": "code",
      "source": [
        "from Bio import SeqIO\n",
        "import pandas as pd\n",
        "from sklearn.metrics import f1_score, recall_score, precision_score\n",
        "import numpy as np"
      ],
      "metadata": {
        "id": "HaJ-O6BWHULe"
      },
      "execution_count": 50,
      "outputs": []
    },
    {
      "cell_type": "code",
      "source": [
        "res = [] # list of dicts {\"protein\":, \"chebi-id\", \"position\", \"score\"}\n",
        "\n",
        "for seq_record in SeqIO.parse(\"POS_TRAIN.fasta\", \"fasta\"):\n",
        "  print(f\"ID: {seq_record.id}\")\n",
        "  print(f\"SEQ: {repr(seq_record.seq)}\")\n",
        "  print(f\"Length: {len(seq_record)}\")\n",
        "\n",
        "#record_dict = SeqIO.to_dict(SeqIO.parse(\"test-dataset.fasta\", \"fasta\"))\n",
        "#record_dict"
      ],
      "metadata": {
        "id": "NCySTQbrHW1O"
      },
      "execution_count": null,
      "outputs": []
    },
    {
      "cell_type": "code",
      "source": [
        "# predicting zinc for each entry\n",
        "\n",
        "data=pd.read_csv('POS_TRAIN.tsv',sep='\\t')\n",
        "y = data[\"ChEBI-ID\"]\n",
        "preds = y.copy()\n",
        "preds.loc[:] = \"CHEBI:29105\"\n",
        "preds\n",
        "\n",
        "f1_score(y, preds, average=None)\n",
        "#recall_score(y, preds, average=None)"
      ],
      "metadata": {
        "colab": {
          "base_uri": "https://localhost:8080/"
        },
        "id": "xzz11zY5as41",
        "outputId": "310d3097-b10e-4cd2-cc6d-d7e10103e84b"
      },
      "execution_count": 46,
      "outputs": [
        {
          "output_type": "execute_result",
          "data": {
            "text/plain": [
              "array([0.        , 0.        , 0.        , 0.        , 0.        ,\n",
              "       0.        , 0.        , 0.        , 0.        , 0.        ,\n",
              "       0.        , 0.        , 0.        , 0.48575385, 0.        ,\n",
              "       0.        , 0.        , 0.        , 0.        , 0.        ,\n",
              "       0.        , 0.        , 0.        ])"
            ]
          },
          "metadata": {},
          "execution_count": 46
        }
      ]
    },
    {
      "cell_type": "code",
      "source": [
        "# predicting a random metal for each entry\n",
        "\n",
        "data = pd.read_csv('POS_TRAIN.tsv',sep='\\t')\n",
        "chebi_map = pd.read_csv('ChEBI-IDs_for_metal_binding.tsv', sep='\\t')\n",
        "\n",
        "chebi_ids = chebi_map[\"ChEBI-ID\"].unique()\n",
        "y = data[\"ChEBI-ID\"]\n",
        "preds = np.random.choice(chebi_ids, size = y.size)\n",
        "preds.size\n",
        "\n",
        "f1_score(y, preds, average=None)"
      ],
      "metadata": {
        "colab": {
          "base_uri": "https://localhost:8080/"
        },
        "id": "SbYsJtIzeZSn",
        "outputId": "25c875bc-1284-4c6e-a185-d617d11b68ee"
      },
      "execution_count": 73,
      "outputs": [
        {
          "output_type": "execute_result",
          "data": {
            "text/plain": [
              "array([0.        , 0.        , 0.05850091, 0.02708333, 0.00282486,\n",
              "       0.        , 0.04620462, 0.03641092, 0.        , 0.        ,\n",
              "       0.01058201, 0.0377568 , 0.        , 0.01106501, 0.01524778,\n",
              "       0.06832007, 0.05625931, 0.        , 0.        , 0.00918836,\n",
              "       0.00587372, 0.        , 0.        , 0.        , 0.00560224,\n",
              "       0.04136091, 0.02939015, 0.        , 0.        ])"
            ]
          },
          "metadata": {},
          "execution_count": 73
        }
      ]
    }
  ]
}